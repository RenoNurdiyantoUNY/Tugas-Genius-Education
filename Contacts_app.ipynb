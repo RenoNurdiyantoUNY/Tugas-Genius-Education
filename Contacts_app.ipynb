{
 "cells": [
  {
   "cell_type": "code",
   "execution_count": null,
   "id": "a58735ce",
   "metadata": {},
   "outputs": [],
   "source": [
    "class Kontak(object):\n",
    "    def _init_(self,nama,nomor):\n",
    "        self.nama=nama\n",
    "        self.nomor=nomor\n",
    "\n",
    "kontak=[]\n",
    "def main():\n",
    "    print(\"Selamat Datang!\")\n",
    "    while True:\n",
    "        print('--Menu--\\')\n",
    "        print('1. Daftar Kontak')\n",
    "        print('2. Tambah Kontak')\n",
    "        print('3. Edit Kontak')\n",
    "        print('4. Hapus Kontak')\n",
    "        print('5. Cari Kontak')\n",
    "        print('6. Keluar')\n",
    "        menu=input('\\mPilih Menu: ')\n",
    "        if menu=='1':\n",
    "              daftar_kontak()\n",
    "        elif menu=='2':\n",
    "              tambah_kontak()\n",
    "        elif menu == '3':\n",
    "              edit_kontak()\n",
    "        elif menu == '4':\n",
    "              hapus_kontak()\n",
    "        elif menu == '5':\n",
    "              cari_kontak()\n",
    "        elif menu =='6':\n",
    "              print('Program selesai, sampai jumpa!')\n",
    "              break\n",
    "        else:\n",
    "            print('Menu tidak tesedia!\\n')\n",
    "if __name__=='__main__'\n",
    "    main()"
   ]
  }
 ],
 "metadata": {
  "kernelspec": {
   "display_name": "Python 3 (ipykernel)",
   "language": "python",
   "name": "python3"
  },
  "language_info": {
   "codemirror_mode": {
    "name": "ipython",
    "version": 3
   },
   "file_extension": ".py",
   "mimetype": "text/x-python",
   "name": "python",
   "nbconvert_exporter": "python",
   "pygments_lexer": "ipython3",
   "version": "3.9.12"
  }
 },
 "nbformat": 4,
 "nbformat_minor": 5
}
