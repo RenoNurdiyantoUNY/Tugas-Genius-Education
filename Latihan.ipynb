{
 "cells": [
  {
   "cell_type": "code",
   "execution_count": 1,
   "id": "da984d9b",
   "metadata": {},
   "outputs": [
    {
     "data": {
      "text/plain": [
       "' hallo semangat pagi'"
      ]
     },
     "execution_count": 1,
     "metadata": {},
     "output_type": "execute_result"
    }
   ],
   "source": [
    "# return function\n",
    "def kasih_Salam():\n",
    "    return \" hallo semangat pagi\"\n",
    "kasih_Salam()"
   ]
  },
  {
   "cell_type": "code",
   "execution_count": 2,
   "id": "419c4cd6",
   "metadata": {},
   "outputs": [
    {
     "name": "stdout",
     "output_type": "stream",
     "text": [
      "Perkenalkan nama saya ... , salam kenal\n"
     ]
    }
   ],
   "source": [
    "def sapa_saya():\n",
    "    print (\"Perkenalkan nama saya ... , salam kenal\")\n",
    "sapa_saya()"
   ]
  },
  {
   "cell_type": "code",
   "execution_count": 3,
   "id": "adf2dd89",
   "metadata": {},
   "outputs": [
    {
     "name": "stdout",
     "output_type": "stream",
     "text": [
      " luas segitiga adalah  45.0\n"
     ]
    }
   ],
   "source": [
    "def hitung_luas_segitiga():\n",
    "    alas=5\n",
    "    tinggi=18\n",
    "    luas=(alas*tinggi)/2\n",
    "    print( \" luas segitiga adalah \", luas)\n",
    "hitung_luas_segitiga()"
   ]
  },
  {
   "cell_type": "code",
   "execution_count": 4,
   "id": "5faa1055",
   "metadata": {},
   "outputs": [],
   "source": [
    "import csv\n",
    "import pandas\n",
    "import numpy as np"
   ]
  },
  {
   "cell_type": "code",
   "execution_count": 5,
   "id": "3642c2d7",
   "metadata": {},
   "outputs": [
    {
     "name": "stdout",
     "output_type": "stream",
     "text": [
      "Lingkaran dengan jari-jari14 memiliki keliling 87.92\n"
     ]
    }
   ],
   "source": [
    "def keliling_lingkaran(radius):\n",
    "    keliling=2*3.14*radius\n",
    "    return keliling\n",
    "r =14\n",
    "kel=keliling_lingkaran(r)\n",
    "print('Lingkaran dengan jari-jari{} memiliki keliling {}'.format(r,kel))"
   ]
  },
  {
   "cell_type": "code",
   "execution_count": 6,
   "id": "63956ad7",
   "metadata": {},
   "outputs": [
    {
     "name": "stdout",
     "output_type": "stream",
     "text": [
      "masukkan nilai= 20\n",
      "hasilnya adalah 22\n"
     ]
    }
   ],
   "source": [
    "def ceknilai(nilai):\n",
    "    if nilai %2==0:\n",
    "        nilai+=2\n",
    "    else:\n",
    "        nilai*=2\n",
    "    return nilai\n",
    "angka=input(\"masukkan nilai= \")\n",
    "hasil=ceknilai(int(angka))\n",
    "\n",
    "print(\"hasilnya adalah {}\".format(hasil))"
   ]
  },
  {
   "cell_type": "code",
   "execution_count": null,
   "id": "cc275d2c",
   "metadata": {},
   "outputs": [],
   "source": []
  }
 ],
 "metadata": {
  "kernelspec": {
   "display_name": "Python 3 (ipykernel)",
   "language": "python",
   "name": "python3"
  },
  "language_info": {
   "codemirror_mode": {
    "name": "ipython",
    "version": 3
   },
   "file_extension": ".py",
   "mimetype": "text/x-python",
   "name": "python",
   "nbconvert_exporter": "python",
   "pygments_lexer": "ipython3",
   "version": "3.9.12"
  }
 },
 "nbformat": 4,
 "nbformat_minor": 5
}
